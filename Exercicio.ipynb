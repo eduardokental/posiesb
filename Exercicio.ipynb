{
 "cells": [
  {
   "cell_type": "markdown",
   "metadata": {},
   "source": [
    "# Dados de passagens aéreas do governo"
   ]
  },
  {
   "cell_type": "code",
   "execution_count": 1,
   "metadata": {},
   "outputs": [],
   "source": [
    "# Importando as bibliotecas\n",
    "import pandas as pd\n",
    "import matplotlib.pyplot as plt\n",
    "import seaborn as sns\n",
    "import numpy as np"
   ]
  },
  {
   "cell_type": "code",
   "execution_count": 2,
   "metadata": {},
   "outputs": [],
   "source": [
    "#Importando arquivo\n",
    "\n",
    "df = pd.read_excel('C:/Users/1831133118/Documents/FSCD_II/201710_EmissaoPassagens_SCDP.xlsx', skiprows=3, skipfooter=3)"
   ]
  },
  {
   "cell_type": "code",
   "execution_count": 3,
   "metadata": {},
   "outputs": [
    {
     "data": {
      "text/html": [
       "<div>\n",
       "<style scoped>\n",
       "    .dataframe tbody tr th:only-of-type {\n",
       "        vertical-align: middle;\n",
       "    }\n",
       "\n",
       "    .dataframe tbody tr th {\n",
       "        vertical-align: top;\n",
       "    }\n",
       "\n",
       "    .dataframe thead th {\n",
       "        text-align: right;\n",
       "    }\n",
       "</style>\n",
       "<table border=\"1\" class=\"dataframe\">\n",
       "  <thead>\n",
       "    <tr style=\"text-align: right;\">\n",
       "      <th></th>\n",
       "      <th>Código do órgão superior</th>\n",
       "      <th>Nome do órgão superior</th>\n",
       "      <th>Código do órgão solicitante da viagem</th>\n",
       "      <th>Nome do órgão solicitante da viagem</th>\n",
       "      <th>N. PCDP</th>\n",
       "      <th>N. Reserva/Localizador</th>\n",
       "      <th>Data Emissão Bilhete</th>\n",
       "      <th>Data Embarque</th>\n",
       "      <th>Valor Tarifa Comercial</th>\n",
       "      <th>Percentual Desconto Aplicado</th>\n",
       "      <th>...</th>\n",
       "      <th>Companhia</th>\n",
       "      <th>Aérea</th>\n",
       "      <th>Regra Tarifária</th>\n",
       "      <th>No Show</th>\n",
       "      <th>Remarcado</th>\n",
       "      <th>Cancelado</th>\n",
       "      <th>Valor Multas</th>\n",
       "      <th>Valor Reembolso</th>\n",
       "      <th>Diferença de Tarifa</th>\n",
       "      <th>Situação Final Bilhete</th>\n",
       "    </tr>\n",
       "  </thead>\n",
       "  <tbody>\n",
       "    <tr>\n",
       "      <th>0</th>\n",
       "      <td>3</td>\n",
       "      <td>Fundação Instituto Brasileiro de Geografia e E...</td>\n",
       "      <td>3</td>\n",
       "      <td>Fundação Instituto Brasileiro de Geografia e E...</td>\n",
       "      <td>028012/17</td>\n",
       "      <td>JGZQXC</td>\n",
       "      <td>2017-10-03 11:33:35.808</td>\n",
       "      <td>2017-10-06 20:55:00</td>\n",
       "      <td>407.4</td>\n",
       "      <td>0.0</td>\n",
       "      <td>...</td>\n",
       "      <td>LATAM</td>\n",
       "      <td>N</td>\n",
       "      <td>http://t.umail.com.br/ClickHere/ViewEmail.asp...</td>\n",
       "      <td>Não</td>\n",
       "      <td>Não</td>\n",
       "      <td>Não</td>\n",
       "      <td>0.0</td>\n",
       "      <td>0.0</td>\n",
       "      <td>0.0</td>\n",
       "      <td>Voado</td>\n",
       "    </tr>\n",
       "  </tbody>\n",
       "</table>\n",
       "<p>1 rows × 24 columns</p>\n",
       "</div>"
      ],
      "text/plain": [
       "   Código do órgão superior  \\\n",
       "0                         3   \n",
       "\n",
       "                              Nome do órgão superior  \\\n",
       "0  Fundação Instituto Brasileiro de Geografia e E...   \n",
       "\n",
       "   Código do órgão solicitante da viagem  \\\n",
       "0                                      3   \n",
       "\n",
       "                 Nome do órgão solicitante da viagem          N. PCDP  \\\n",
       "0  Fundação Instituto Brasileiro de Geografia e E...   028012/17        \n",
       "\n",
       "     N. Reserva/Localizador      Data Emissão Bilhete         Data Embarque  \\\n",
       "0   JGZQXC                    2017-10-03 11:33:35.808   2017-10-06 20:55:00   \n",
       "\n",
       "   Valor Tarifa Comercial  Percentual Desconto Aplicado  \\\n",
       "0                   407.4                           0.0   \n",
       "\n",
       "           ...            Companhia                       Aérea  \\\n",
       "0          ...                LATAM   N                           \n",
       "\n",
       "                                     Regra Tarifária    No Show    Remarcado  \\\n",
       "0   http://t.umail.com.br/ClickHere/ViewEmail.asp...   Não        Não          \n",
       "\n",
       "     Cancelado Valor Multas Valor Reembolso Diferença de Tarifa  \\\n",
       "0   Não                 0.0             0.0                 0.0   \n",
       "\n",
       "  Situação Final Bilhete  \n",
       "0                  Voado  \n",
       "\n",
       "[1 rows x 24 columns]"
      ]
     },
     "execution_count": 3,
     "metadata": {},
     "output_type": "execute_result"
    }
   ],
   "source": [
    "df.head(1)"
   ]
  },
  {
   "cell_type": "code",
   "execution_count": 4,
   "metadata": {
    "scrolled": true
   },
   "outputs": [
    {
     "data": {
      "text/html": [
       "<div>\n",
       "<style scoped>\n",
       "    .dataframe tbody tr th:only-of-type {\n",
       "        vertical-align: middle;\n",
       "    }\n",
       "\n",
       "    .dataframe tbody tr th {\n",
       "        vertical-align: top;\n",
       "    }\n",
       "\n",
       "    .dataframe thead th {\n",
       "        text-align: right;\n",
       "    }\n",
       "</style>\n",
       "<table border=\"1\" class=\"dataframe\">\n",
       "  <thead>\n",
       "    <tr style=\"text-align: right;\">\n",
       "      <th></th>\n",
       "      <th>Código do órgão superior</th>\n",
       "      <th>Nome do órgão superior</th>\n",
       "      <th>Código do órgão solicitante da viagem</th>\n",
       "      <th>Nome do órgão solicitante da viagem</th>\n",
       "      <th>N. PCDP</th>\n",
       "      <th>N. Reserva/Localizador</th>\n",
       "      <th>Data Emissão Bilhete</th>\n",
       "      <th>Data Embarque</th>\n",
       "      <th>Valor Tarifa Comercial</th>\n",
       "      <th>Percentual Desconto Aplicado</th>\n",
       "      <th>...</th>\n",
       "      <th>Companhia</th>\n",
       "      <th>Aérea</th>\n",
       "      <th>Regra Tarifária</th>\n",
       "      <th>No Show</th>\n",
       "      <th>Remarcado</th>\n",
       "      <th>Cancelado</th>\n",
       "      <th>Valor Multas</th>\n",
       "      <th>Valor Reembolso</th>\n",
       "      <th>Diferença de Tarifa</th>\n",
       "      <th>Situação Final Bilhete</th>\n",
       "    </tr>\n",
       "  </thead>\n",
       "  <tbody>\n",
       "    <tr>\n",
       "      <th>50404</th>\n",
       "      <td>219924</td>\n",
       "      <td>Secretaria-Geral da Presidência da República</td>\n",
       "      <td>34889</td>\n",
       "      <td>Diretoria de Recursos Logísticos</td>\n",
       "      <td>000188/17</td>\n",
       "      <td>OEWY8V</td>\n",
       "      <td>2017-10-18 10:09:20.946</td>\n",
       "      <td>2017-10-22 09:50:00</td>\n",
       "      <td>782.9</td>\n",
       "      <td>0.0</td>\n",
       "      <td>...</td>\n",
       "      <td>GOL</td>\n",
       "      <td>W</td>\n",
       "      <td>https://www.voegol.com.br/pt/informacoes/tari...</td>\n",
       "      <td>Não</td>\n",
       "      <td>Não</td>\n",
       "      <td>Não</td>\n",
       "      <td>0.0</td>\n",
       "      <td>0.0</td>\n",
       "      <td>0.0</td>\n",
       "      <td>Andamento</td>\n",
       "    </tr>\n",
       "  </tbody>\n",
       "</table>\n",
       "<p>1 rows × 24 columns</p>\n",
       "</div>"
      ],
      "text/plain": [
       "       Código do órgão superior                        Nome do órgão superior  \\\n",
       "50404                    219924  Secretaria-Geral da Presidência da República   \n",
       "\n",
       "       Código do órgão solicitante da viagem  \\\n",
       "50404                                  34889   \n",
       "\n",
       "      Nome do órgão solicitante da viagem          N. PCDP  \\\n",
       "50404    Diretoria de Recursos Logísticos   000188/17        \n",
       "\n",
       "         N. Reserva/Localizador      Data Emissão Bilhete  \\\n",
       "50404   OEWY8V                    2017-10-18 10:09:20.946   \n",
       "\n",
       "              Data Embarque  Valor Tarifa Comercial  \\\n",
       "50404   2017-10-22 09:50:00                   782.9   \n",
       "\n",
       "       Percentual Desconto Aplicado          ...            Companhia  \\\n",
       "50404                           0.0          ...                  GOL   \n",
       "\n",
       "                            Aérea  \\\n",
       "50404   W                           \n",
       "\n",
       "                                         Regra Tarifária    No Show  \\\n",
       "50404   https://www.voegol.com.br/pt/informacoes/tari...   Não        \n",
       "\n",
       "         Remarcado    Cancelado Valor Multas Valor Reembolso  \\\n",
       "50404   Não          Não                 0.0             0.0   \n",
       "\n",
       "      Diferença de Tarifa Situação Final Bilhete  \n",
       "50404                 0.0              Andamento  \n",
       "\n",
       "[1 rows x 24 columns]"
      ]
     },
     "execution_count": 4,
     "metadata": {},
     "output_type": "execute_result"
    }
   ],
   "source": [
    "df.tail(1)"
   ]
  },
  {
   "cell_type": "code",
   "execution_count": 5,
   "metadata": {},
   "outputs": [
    {
     "name": "stdout",
     "output_type": "stream",
     "text": [
      "<class 'pandas.core.frame.DataFrame'>\n",
      "RangeIndex: 50405 entries, 0 to 50404\n",
      "Data columns (total 24 columns):\n",
      "Código do órgão superior                 50405 non-null int64\n",
      "Nome do órgão superior                   50405 non-null object\n",
      "Código do órgão solicitante da viagem    50405 non-null int64\n",
      "Nome do órgão solicitante da viagem      50405 non-null object\n",
      "N. PCDP                                  50405 non-null object\n",
      "N. Reserva/Localizador                   50405 non-null object\n",
      "Data Emissão Bilhete                     50405 non-null object\n",
      "Data Embarque                            50405 non-null object\n",
      "Valor Tarifa Comercial                   50405 non-null float64\n",
      "Percentual Desconto Aplicado             50405 non-null float64\n",
      "Valor Tarifa Governo                     50405 non-null float64\n",
      "Valor Tarifa Embarque                    50405 non-null float64\n",
      "Valor Bilhete                            50405 non-null float64\n",
      "Companhia Aérea                          50405 non-null object\n",
      "Companhia                                50405 non-null object\n",
      "Aérea                                    50405 non-null object\n",
      "Regra Tarifária                          50405 non-null object\n",
      "No Show                                  50405 non-null object\n",
      "Remarcado                                50405 non-null object\n",
      "Cancelado                                50405 non-null object\n",
      "Valor Multas                             50405 non-null float64\n",
      "Valor Reembolso                          50405 non-null float64\n",
      "Diferença de Tarifa                      50405 non-null float64\n",
      "Situação Final Bilhete                   50405 non-null object\n",
      "dtypes: float64(8), int64(2), object(14)\n",
      "memory usage: 9.2+ MB\n"
     ]
    }
   ],
   "source": [
    "df.info()"
   ]
  },
  {
   "cell_type": "code",
   "execution_count": 6,
   "metadata": {},
   "outputs": [],
   "source": [
    "#removendo espaços do nome dos órgãos\n",
    "df['Nome do órgão superior']=df['Nome do órgão superior'].str.replace('  ','')"
   ]
  },
  {
   "cell_type": "code",
   "execution_count": 7,
   "metadata": {},
   "outputs": [
    {
     "data": {
      "text/plain": [
       " Voado        28257\n",
       " Andamento    19960\n",
       " Cancelado     2188\n",
       "dtype: int64"
      ]
     },
     "execution_count": 7,
     "metadata": {},
     "output_type": "execute_result"
    }
   ],
   "source": [
    "# Situação do bilhete\n",
    "pd.value_counts(df['Situação Final Bilhete'].values, sort=True)"
   ]
  },
  {
   "cell_type": "code",
   "execution_count": 8,
   "metadata": {},
   "outputs": [
    {
     "data": {
      "text/plain": [
       "Ministério da Fazenda                                                           2949\n",
       "Departamento de Polícia Federal                                                 2664\n",
       "Instituto Nacional de Estudos e Pesquisas Educacionais Anísio Teixeira          2561\n",
       "Ministério da Saúde                                                             2356\n",
       "Departamento de Polícia Rodoviária Federal                                      1600\n",
       "Instituto Nacional do Seguro Social                                             1426\n",
       "Comando do Exército                                                             1315\n",
       "Ministério da Educação                                                          1170\n",
       "Comando da Aeronáutica                                                          1156\n",
       "Ministério da Justiça                                                           1061\n",
       "Agência Nacional de Aviação Civil                                               1005\n",
       "Fundação Nacional de Saúde                                                       911\n",
       "Ministério do Trabalho                                                           906\n",
       "Ministério da Agricultura, Pecuária e Abastecimento                              903\n",
       "Instituto Brasileiro do Meio Ambiente e dos Recursos Naturais Renováveis         811\n",
       "Fundação Universidade de Brasília                                                749\n",
       "Instituto Nacional de Colonização e Reforma Agrária                              743\n",
       "Ministério da Defesa                                                             698\n",
       "Universidade Federal de Uberlândia                                               663\n",
       "Departamento Nacional de Infra-Estrutura de Transportes                          649\n",
       "Fundação Instituto Brasileiro de Geografia e Estatística                         607\n",
       "Instituto do Patrimônio Histórico e Artístico Nacional                           605\n",
       "Universidade Federal do Pará                                                     571\n",
       "Fundação Oswaldo Cruz                                                            566\n",
       "Ministério do Desenvolvimento Social e Agrário                                   556\n",
       "Agência Nacional de Vigilância Sanitária                                         542\n",
       "Advocacia-Geral da União                                                         532\n",
       "Ministério da Transparência, Fiscalização e Controladoria-Geral da União         450\n",
       "Universidade Federal de Juiz de Fora                                             448\n",
       "Universidade Federal da Bahia                                                    429\n",
       "                                                                                ... \n",
       "Ministério das Relações Exteriores                                                45\n",
       "Universidade da Integração Internacional da Lusofonia Afro-Brasileira-UNILAB      43\n",
       "Superintendência Nacional de Previdência Complementar                             42\n",
       "Empresa de Planejamento e Logística S.A.                                          42\n",
       "Departamento Nacional de Obras Contra as Secas                                    40\n",
       "Colégio Pedro II                                                                  37\n",
       "Fundação Jorge Duprat Figueiredo, de Segurança e Medicina do Trabalho             37\n",
       "Instituto Federal de Educação, Ciência e Tecnologia do Triângulo Mineiro          34\n",
       "Instituto Federal de Educação, Ciência e Tecnologia do Rio de Janeiro             32\n",
       "Superintendência do Desenvolvimento da Amazônia                                   30\n",
       "Fundação Escola Nacional de Administração Pública                                 26\n",
       "Universidade Federal de Lavras                                                    24\n",
       "Universidade Federal do Recôncavo da Bahia                                        24\n",
       "Instituto Federal de Educação, Ciência e Tecnologia de Brasília                   22\n",
       "Instituto Nacional da Propriedade Industrial                                      21\n",
       "Superintendência de Desenvolvimento do Centro-Oeste                               20\n",
       "Universidade Federal do Triângulo Mineiro                                         19\n",
       "Conselho Administrativo de Defesa Econômica                                       17\n",
       "Instituto Federal de Educação, Ciência e Tecnologia de Sergipe                    16\n",
       "Instituto Nacional de Tecnologia da Informação                                    16\n",
       "Instituto Federal de Educação, Ciência e Tecnológica do Piauí.                    15\n",
       "Instituto Benjamin Constant                                                       14\n",
       "Fundação Casa de Rui Barbosa                                                      12\n",
       "Conselho Nacional de Desenvolvimento Científico e Tecnológico                     11\n",
       "Instituto Brasileiro de Turismo                                                   11\n",
       "Caixa de Financiamento Imobiliário da Aeronáutica                                  6\n",
       "Empresa de Pesquisa Energética                                                     6\n",
       "Secretaria de Comunicação Social da Presidência da República                       5\n",
       "Secretaria de Políticas para as Mulheres da Presidência da República               4\n",
       "Instituto de Pesquisas Jardim Botânico do Rio de Janeiro                           2\n",
       "Length: 180, dtype: int64"
      ]
     },
     "execution_count": 8,
     "metadata": {},
     "output_type": "execute_result"
    }
   ],
   "source": [
    "# Quantidade de solicitações por órgão superior\n",
    "pd.value_counts(df['Nome do órgão superior'].values, sort=True)"
   ]
  },
  {
   "cell_type": "code",
   "execution_count": 9,
   "metadata": {},
   "outputs": [
    {
     "data": {
      "text/plain": [
       "Diretoria de Avaliação da Educação Superior                                        1988\n",
       "Gabinete                                                                           1833\n",
       "Reitoria                                                                           1499\n",
       "Pró-Reitoria de Pesquisa e Pós-Graduação                                           1078\n",
       "Grupamento de Apoio de Brasília                                                     830\n",
       "Departamento Penitenciário Nacional                                                 628\n",
       "Gabinete do Ministro                                                                537\n",
       "Secretaria de Inspeção do Trabalho                                                  519\n",
       "Conselho Nacional de Saúde                                                          518\n",
       "Diretoria de Gestão e Planejamento                                                  384\n",
       "Secretaria de Previdência                                                           377\n",
       "Conselho Administrativo de Recursos Fiscais                                         353\n",
       "Secretaria-Executiva                                                                347\n",
       "Universidade Federal do Rio de Janeiro                                              329\n",
       "Superintendência de Padrões Operacionais                                            289\n",
       "Pró-Reitoria de Ensino e Pós-Graduação                                              288\n",
       "Superintendência-Regional Nordeste em Recife                                        283\n",
       "Comissão de Valores Mobiliários                                                     276\n",
       "Fundação Universidade do Amazonas                                                   274\n",
       "Comando de Operações Terrestres                                                     268\n",
       "Pró-Reitoria de Graduação                                                           256\n",
       "Secretaria da Pró-Reitoria de Pós-Graduação                                         252\n",
       "Pró-Reitoria de Pós-Graduação                                                       243\n",
       "Departamento de Apoio à Gestão Participativa                                        243\n",
       "Pró-Reitoria de Pós-Graduação e Pesquisa                                            238\n",
       "Comando Logístico                                                                   237\n",
       "Divisão de Programação e Logística                                                  230\n",
       "Secretaria de Educação Profissional e Tecnológica                                   230\n",
       "Coordenação-Geral de Planejamento e Modernização                                    228\n",
       "Divisão de Orçamento, Finanças e Logística                                          227\n",
       "                                                                                   ... \n",
       "Departamento de Ciências da Computação                                                1\n",
       "Assessoria de Educação a Distância                                                    1\n",
       "Delegacia da Receita Federal do Brasil de Julgamento em Belo Horizonte                1\n",
       "Superintendência de Administração do Ministério da Fazenda no Estado de Sergipe       1\n",
       "Subsecretaria-Geral Política III                                                      1\n",
       "Superintendência Regional Polícia Rodoviária Federal na Bahia                         1\n",
       "Setor Litoral                                                                         1\n",
       "Delegacia de Polícia Federal em Caxias do Sul                                         1\n",
       "Subsecretaria-Geral do Serviço Exterior                                               1\n",
       "Superintendência de Fomento                                                           1\n",
       "Setor de Ciências da Saúde                                                            1\n",
       "Delegacia Federal de Desenvolvimento Agrário no Estado de Santa Catarina              1\n",
       "Subsecretaria-Geral das Comunidades Brasileiras no Exterior                           1\n",
       "Núcleo de Informática                                                                 1\n",
       "Programa de Pós-Graduação em Modelagem Computacional de Conhecimento                  1\n",
       "Campus Santa Helena                                                                   1\n",
       "Coordenação do Curso de Matemática-Licenciatura Plena e Bacharelado                   1\n",
       "Laboratório Nacional Agropecuário, em Belém                                           1\n",
       "Unidade de Apoio Pedagógico                                                           1\n",
       "Delegacia de Polícia Federal em São José dos Campos                                   1\n",
       "Campus Tubarão                                                                        1\n",
       "Coordenação do Programa de Pós-Graduação em Ciências e Tecnologia Ambiental           1\n",
       "Coordenadoria de Graduação em Filosofia                                               1\n",
       "Superintendência Regional no Estado do Rio de Janeiro                                 1\n",
       "Curso de Mestrado e Doutorado em Proteção de Plantas                                  1\n",
       "Delegacia de Polícia Federal em Nova Iguaçu                                           1\n",
       "Delegacia de Polícia Federal em Porto Seguro                                          1\n",
       "Diretoria de Bibliotecas                                                              1\n",
       "Departamento de Ciências Vegetais                                                     1\n",
       "Ouvidoria-Geral                                                                       1\n",
       "Length: 2014, dtype: int64"
      ]
     },
     "execution_count": 9,
     "metadata": {},
     "output_type": "execute_result"
    }
   ],
   "source": [
    "# Quantidade de solicitações por órgão\n",
    "pd.value_counts(df['Nome do órgão solicitante da viagem'].values, sort=True)"
   ]
  },
  {
   "cell_type": "code",
   "execution_count": 10,
   "metadata": {},
   "outputs": [
    {
     "data": {
      "text/plain": [
       "GOL Linhas Aéreas Inteligentes          17568\n",
       "LATAM AIRLINES BRASIL                   12301\n",
       "AZUL LINHAS AÉREAS BRASILEIRA           10967\n",
       "AVIANCA S.A.                             9028\n",
       "MAP TRANSPORTES AEREOS LTDA - MAP         274\n",
       "Gol OU Latam - Parceria com Terceiro      267\n",
       "Name: Companhia Aérea, dtype: int64"
      ]
     },
     "execution_count": 10,
     "metadata": {},
     "output_type": "execute_result"
    }
   ],
   "source": [
    "# Compaghias mais acionadas\n",
    "df['Companhia Aérea'].value_counts()"
   ]
  },
  {
   "cell_type": "code",
   "execution_count": 11,
   "metadata": {},
   "outputs": [
    {
     "data": {
      "text/plain": [
       "GOL Linhas Aéreas Inteligentes          0.348537\n",
       "LATAM AIRLINES BRASIL                   0.244043\n",
       "AZUL LINHAS AÉREAS BRASILEIRA           0.217578\n",
       "AVIANCA S.A.                            0.179109\n",
       "MAP TRANSPORTES AEREOS LTDA - MAP       0.005436\n",
       "Gol OU Latam - Parceria com Terceiro    0.005297\n",
       "Name: Companhia Aérea, dtype: float64"
      ]
     },
     "execution_count": 11,
     "metadata": {},
     "output_type": "execute_result"
    }
   ],
   "source": [
    "# Companhias mais acionadas [%]\n",
    "df['Companhia Aérea'].value_counts(normalize = True)"
   ]
  },
  {
   "cell_type": "code",
   "execution_count": 13,
   "metadata": {},
   "outputs": [
    {
     "data": {
      "text/plain": [
       "Companhia Aérea\n",
       "AVIANCA S.A.                             5245246.64\n",
       "AZUL LINHAS AÉREAS BRASILEIRA            8020100.45\n",
       "GOL Linhas Aéreas Inteligentes          12936609.65\n",
       "Gol OU Latam - Parceria com Terceiro      162520.18\n",
       "LATAM AIRLINES BRASIL                    8457533.31\n",
       "MAP TRANSPORTES AEREOS LTDA - MAP         202197.21\n",
       "Name: Valor Bilhete, dtype: float64"
      ]
     },
     "execution_count": 13,
     "metadata": {},
     "output_type": "execute_result"
    }
   ],
   "source": [
    "df.groupby(['Companhia Aérea'])['Valor Bilhete'].sum()"
   ]
  },
  {
   "cell_type": "code",
   "execution_count": 215,
   "metadata": {},
   "outputs": [],
   "source": [
    "df_gr=pd.DataFrame(df.groupby(['Companhia'])['Valor Bilhete'].sum().nlargest(10))\n"
   ]
  },
  {
   "cell_type": "code",
   "execution_count": 17,
   "metadata": {},
   "outputs": [
    {
     "data": {
      "text/plain": [
       "<matplotlib.axes._subplots.AxesSubplot at 0xd3a93c8>"
      ]
     },
     "execution_count": 17,
     "metadata": {},
     "output_type": "execute_result"
    },
    {
     "data": {
      "image/png": "[encoded data removed]",
      "text/plain": [
       "<matplotlib.figure.Figure at 0xd1adda0>"
      ]
     },
     "metadata": {},
     "output_type": "display_data"
    }
   ],
   "source": [
    "# solicitações por companhia\n",
    "sns.set(style=\"darkgrid\")\n",
    "sns.countplot(x='Companhia', data=df)"
   ]
  },
  {
   "cell_type": "code",
   "execution_count": 19,
   "metadata": {},
   "outputs": [
    {
     "data": {
      "text/plain": [
       "<matplotlib.axes._subplots.AxesSubplot at 0xd247ef0>"
      ]
     },
     "execution_count": 19,
     "metadata": {},
     "output_type": "execute_result"
    },
    {
     "data": {
      "image/png": "[encoded data removed]",
      "text/plain": [
       "<matplotlib.figure.Figure at 0xdf303c8>"
      ]
     },
     "metadata": {},
     "output_type": "display_data"
    }
   ],
   "source": [
    "sns.boxplot(x='Companhia', y='Valor Bilhete', data=df)"
   ]
  }
 ],
 "metadata": {
  "kernelspec": {
   "display_name": "Python 3",
   "language": "python",
   "name": "python3"
  },
  "language_info": {
   "codemirror_mode": {
    "name": "ipython",
    "version": 3
   },
   "file_extension": ".py",
   "mimetype": "text/x-python",
   "name": "python",
   "nbconvert_exporter": "python",
   "pygments_lexer": "ipython3",
   "version": "3.6.4"
  }
 },
 "nbformat": 4,
 "nbformat_minor": 2
}
